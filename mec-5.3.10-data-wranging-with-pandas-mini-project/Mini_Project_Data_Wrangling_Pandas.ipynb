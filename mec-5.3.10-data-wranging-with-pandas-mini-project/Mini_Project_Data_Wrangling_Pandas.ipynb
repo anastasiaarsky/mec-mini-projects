{
 "cells": [
  {
   "cell_type": "markdown",
   "metadata": {},
   "source": [
    "# Mini-Project: Data Wrangling and Transformation with Pandas\n",
    "\n",
    "Working with tabular data is a necessity for anyone with enterprises having a majority of their data in relational databases and flat files. This mini-project is adopted from the excellent tutorial on pandas by Brandon Rhodes which you have watched earlier in the Data Wrangling Unit. In this mini-project, we will be looking at some interesting data based on movie data from the IMDB.\n",
    "\n",
    "This assignment should help you reinforce the concepts you learnt in the curriculum for Data Wrangling and sharpen your skills in using Pandas. Good Luck!"
   ]
  },
  {
   "cell_type": "markdown",
   "metadata": {},
   "source": [
    "### Please make sure you have one of the more recent versions of Pandas"
   ]
  },
  {
   "cell_type": "code",
   "execution_count": 250,
   "metadata": {
    "ExecuteTime": {
     "start_time": "2023-05-01T14:23:33.469643Z",
     "end_time": "2023-05-01T14:23:33.486822Z"
    }
   },
   "outputs": [],
   "source": [
    "import pandas as pd\n",
    "import matplotlib.pyplot as plt\n",
    "\n",
    "%matplotlib inline"
   ]
  },
  {
   "cell_type": "code",
   "execution_count": 251,
   "metadata": {
    "ExecuteTime": {
     "start_time": "2023-05-01T14:23:34.400926Z",
     "end_time": "2023-05-01T14:23:34.407511Z"
    }
   },
   "outputs": [
    {
     "data": {
      "text/plain": "'1.5.3'"
     },
     "execution_count": 251,
     "metadata": {},
     "output_type": "execute_result"
    }
   ],
   "source": [
    "pd.__version__"
   ]
  },
  {
   "cell_type": "markdown",
   "metadata": {},
   "source": [
    "## Taking a look at the Movies dataset\n",
    "This data shows the movies based on their title and the year of release"
   ]
  },
  {
   "cell_type": "code",
   "execution_count": 252,
   "metadata": {
    "ExecuteTime": {
     "start_time": "2023-05-01T14:23:36.930823Z",
     "end_time": "2023-05-01T14:23:37.270185Z"
    }
   },
   "outputs": [
    {
     "name": "stdout",
     "output_type": "stream",
     "text": [
      "<class 'pandas.core.frame.DataFrame'>\n",
      "RangeIndex: 244914 entries, 0 to 244913\n",
      "Data columns (total 2 columns):\n",
      " #   Column  Non-Null Count   Dtype \n",
      "---  ------  --------------   ----- \n",
      " 0   title   244914 non-null  object\n",
      " 1   year    244914 non-null  int64 \n",
      "dtypes: int64(1), object(1)\n",
      "memory usage: 3.7+ MB\n"
     ]
    }
   ],
   "source": [
    "movies = pd.read_csv('titles.csv')\n",
    "movies.info()"
   ]
  },
  {
   "cell_type": "code",
   "execution_count": 253,
   "metadata": {
    "ExecuteTime": {
     "start_time": "2023-05-01T14:23:38.641502Z",
     "end_time": "2023-05-01T14:23:38.646560Z"
    }
   },
   "outputs": [
    {
     "data": {
      "text/plain": "                                          title  year\n0                        The Ticket to the Life  2009\n1  Parallel Worlds: A New Rock Music Experience  2016\n2                     Morita - La hija de Jesus  2008\n3                                           Gun  2017\n4                        Love or Nothing at All  2014",
      "text/html": "<div>\n<style scoped>\n    .dataframe tbody tr th:only-of-type {\n        vertical-align: middle;\n    }\n\n    .dataframe tbody tr th {\n        vertical-align: top;\n    }\n\n    .dataframe thead th {\n        text-align: right;\n    }\n</style>\n<table border=\"1\" class=\"dataframe\">\n  <thead>\n    <tr style=\"text-align: right;\">\n      <th></th>\n      <th>title</th>\n      <th>year</th>\n    </tr>\n  </thead>\n  <tbody>\n    <tr>\n      <th>0</th>\n      <td>The Ticket to the Life</td>\n      <td>2009</td>\n    </tr>\n    <tr>\n      <th>1</th>\n      <td>Parallel Worlds: A New Rock Music Experience</td>\n      <td>2016</td>\n    </tr>\n    <tr>\n      <th>2</th>\n      <td>Morita - La hija de Jesus</td>\n      <td>2008</td>\n    </tr>\n    <tr>\n      <th>3</th>\n      <td>Gun</td>\n      <td>2017</td>\n    </tr>\n    <tr>\n      <th>4</th>\n      <td>Love or Nothing at All</td>\n      <td>2014</td>\n    </tr>\n  </tbody>\n</table>\n</div>"
     },
     "execution_count": 253,
     "metadata": {},
     "output_type": "execute_result"
    }
   ],
   "source": [
    "movies.head()"
   ]
  },
  {
   "cell_type": "markdown",
   "metadata": {},
   "source": [
    "## Taking a look at the Cast dataset\n",
    "\n",
    "This data shows the cast (actors, actresses, supporting roles) for each movie\n",
    "\n",
    "- The attribute `n` basically tells the importance of the cast role, lower the number, more important the role.\n",
    "- Supporting cast usually don't have any value for `n`"
   ]
  },
  {
   "cell_type": "code",
   "execution_count": 254,
   "metadata": {
    "ExecuteTime": {
     "start_time": "2023-05-01T14:23:40.317679Z",
     "end_time": "2023-05-01T14:23:49.658897Z"
    }
   },
   "outputs": [
    {
     "name": "stdout",
     "output_type": "stream",
     "text": [
      "<class 'pandas.core.frame.DataFrame'>\n",
      "RangeIndex: 3786176 entries, 0 to 3786175\n",
      "Data columns (total 6 columns):\n",
      " #   Column     Dtype  \n",
      "---  ------     -----  \n",
      " 0   title      object \n",
      " 1   year       int64  \n",
      " 2   name       object \n",
      " 3   type       object \n",
      " 4   character  object \n",
      " 5   n          float64\n",
      "dtypes: float64(1), int64(1), object(4)\n",
      "memory usage: 173.3+ MB\n"
     ]
    }
   ],
   "source": [
    "cast = pd.read_csv('cast.csv.zip')\n",
    "cast.info()"
   ]
  },
  {
   "cell_type": "code",
   "execution_count": 255,
   "metadata": {
    "ExecuteTime": {
     "start_time": "2023-05-01T14:23:49.652800Z",
     "end_time": "2023-05-01T14:23:49.723800Z"
    }
   },
   "outputs": [
    {
     "data": {
      "text/plain": "                                               title  year  \\\n0                                     Closet Monster  2015   \n1                                    Suuri illusioni  1985   \n2                                Battle of the Sexes  2017   \n3                               Secret in Their Eyes  2015   \n4                                         Steve Jobs  2015   \n5                             Straight Outta Compton  2015   \n6                             Straight Outta Compton  2015   \n7                                     For Thy Love 2  2009   \n8  Lapis, Ballpen at Diploma, a True to Life Journey  2014   \n9                                       Desire (III)  2014   \n\n                        name   type                               character  \\\n0                   Buffy #1  actor                                 Buffy 4   \n1                     Homo $  actor                                  Guests   \n2                    $hutter  actor                         Bobby Riggs Fan   \n3                    $hutter  actor                         2002 Dodger Fan   \n4                    $hutter  actor                 1988 Opera House Patron   \n5                    $hutter  actor                             Club Patron   \n6                    $hutter  actor                                 Dopeman   \n7               Bee Moe $lim  actor                                  Thug 1   \n8  Jori ' Danilo' Jurado Jr.  actor                           Jaime (young)   \n9           Syaiful 'Ariffin  actor  Actor Playing Eteocles from 'Antigone'   \n\n      n  \n0  31.0  \n1  22.0  \n2  10.0  \n3   NaN  \n4   NaN  \n5   NaN  \n6   NaN  \n7   NaN  \n8   9.0  \n9   NaN  ",
      "text/html": "<div>\n<style scoped>\n    .dataframe tbody tr th:only-of-type {\n        vertical-align: middle;\n    }\n\n    .dataframe tbody tr th {\n        vertical-align: top;\n    }\n\n    .dataframe thead th {\n        text-align: right;\n    }\n</style>\n<table border=\"1\" class=\"dataframe\">\n  <thead>\n    <tr style=\"text-align: right;\">\n      <th></th>\n      <th>title</th>\n      <th>year</th>\n      <th>name</th>\n      <th>type</th>\n      <th>character</th>\n      <th>n</th>\n    </tr>\n  </thead>\n  <tbody>\n    <tr>\n      <th>0</th>\n      <td>Closet Monster</td>\n      <td>2015</td>\n      <td>Buffy #1</td>\n      <td>actor</td>\n      <td>Buffy 4</td>\n      <td>31.0</td>\n    </tr>\n    <tr>\n      <th>1</th>\n      <td>Suuri illusioni</td>\n      <td>1985</td>\n      <td>Homo $</td>\n      <td>actor</td>\n      <td>Guests</td>\n      <td>22.0</td>\n    </tr>\n    <tr>\n      <th>2</th>\n      <td>Battle of the Sexes</td>\n      <td>2017</td>\n      <td>$hutter</td>\n      <td>actor</td>\n      <td>Bobby Riggs Fan</td>\n      <td>10.0</td>\n    </tr>\n    <tr>\n      <th>3</th>\n      <td>Secret in Their Eyes</td>\n      <td>2015</td>\n      <td>$hutter</td>\n      <td>actor</td>\n      <td>2002 Dodger Fan</td>\n      <td>NaN</td>\n    </tr>\n    <tr>\n      <th>4</th>\n      <td>Steve Jobs</td>\n      <td>2015</td>\n      <td>$hutter</td>\n      <td>actor</td>\n      <td>1988 Opera House Patron</td>\n      <td>NaN</td>\n    </tr>\n    <tr>\n      <th>5</th>\n      <td>Straight Outta Compton</td>\n      <td>2015</td>\n      <td>$hutter</td>\n      <td>actor</td>\n      <td>Club Patron</td>\n      <td>NaN</td>\n    </tr>\n    <tr>\n      <th>6</th>\n      <td>Straight Outta Compton</td>\n      <td>2015</td>\n      <td>$hutter</td>\n      <td>actor</td>\n      <td>Dopeman</td>\n      <td>NaN</td>\n    </tr>\n    <tr>\n      <th>7</th>\n      <td>For Thy Love 2</td>\n      <td>2009</td>\n      <td>Bee Moe $lim</td>\n      <td>actor</td>\n      <td>Thug 1</td>\n      <td>NaN</td>\n    </tr>\n    <tr>\n      <th>8</th>\n      <td>Lapis, Ballpen at Diploma, a True to Life Journey</td>\n      <td>2014</td>\n      <td>Jori ' Danilo' Jurado Jr.</td>\n      <td>actor</td>\n      <td>Jaime (young)</td>\n      <td>9.0</td>\n    </tr>\n    <tr>\n      <th>9</th>\n      <td>Desire (III)</td>\n      <td>2014</td>\n      <td>Syaiful 'Ariffin</td>\n      <td>actor</td>\n      <td>Actor Playing Eteocles from 'Antigone'</td>\n      <td>NaN</td>\n    </tr>\n  </tbody>\n</table>\n</div>"
     },
     "execution_count": 255,
     "metadata": {},
     "output_type": "execute_result"
    }
   ],
   "source": [
    "cast.head(10)"
   ]
  },
  {
   "cell_type": "markdown",
   "metadata": {},
   "source": [
    "## Taking a look at the Release dataset\n",
    "\n",
    "This data shows details of when each movie was release in each country with the release date"
   ]
  },
  {
   "cell_type": "code",
   "execution_count": 256,
   "metadata": {
    "ExecuteTime": {
     "start_time": "2023-05-01T14:23:49.664388Z",
     "end_time": "2023-05-01T14:23:50.841944Z"
    }
   },
   "outputs": [
    {
     "name": "stdout",
     "output_type": "stream",
     "text": [
      "<class 'pandas.core.frame.DataFrame'>\n",
      "RangeIndex: 479488 entries, 0 to 479487\n",
      "Data columns (total 4 columns):\n",
      " #   Column   Non-Null Count   Dtype         \n",
      "---  ------   --------------   -----         \n",
      " 0   title    479488 non-null  object        \n",
      " 1   year     479488 non-null  int64         \n",
      " 2   country  479488 non-null  object        \n",
      " 3   date     479488 non-null  datetime64[ns]\n",
      "dtypes: datetime64[ns](1), int64(1), object(2)\n",
      "memory usage: 14.6+ MB\n"
     ]
    }
   ],
   "source": [
    "release_dates = pd.read_csv('release_dates.csv', parse_dates=['date'], infer_datetime_format=True)\n",
    "release_dates.info()"
   ]
  },
  {
   "cell_type": "code",
   "execution_count": 257,
   "metadata": {
    "ExecuteTime": {
     "start_time": "2023-05-01T14:23:50.850410Z",
     "end_time": "2023-05-01T14:23:50.851794Z"
    }
   },
   "outputs": [
    {
     "data": {
      "text/plain": "                    title  year      country       date\n0   #73, Shaanthi Nivaasa  2007        India 2007-06-15\n1                   #BKKY  2016     Cambodia 2017-10-12\n2                 #Beings  2015      Romania 2015-01-29\n3               #Captured  2017          USA 2017-09-05\n4  #Ewankosau saranghaeyo  2015  Philippines 2015-01-21",
      "text/html": "<div>\n<style scoped>\n    .dataframe tbody tr th:only-of-type {\n        vertical-align: middle;\n    }\n\n    .dataframe tbody tr th {\n        vertical-align: top;\n    }\n\n    .dataframe thead th {\n        text-align: right;\n    }\n</style>\n<table border=\"1\" class=\"dataframe\">\n  <thead>\n    <tr style=\"text-align: right;\">\n      <th></th>\n      <th>title</th>\n      <th>year</th>\n      <th>country</th>\n      <th>date</th>\n    </tr>\n  </thead>\n  <tbody>\n    <tr>\n      <th>0</th>\n      <td>#73, Shaanthi Nivaasa</td>\n      <td>2007</td>\n      <td>India</td>\n      <td>2007-06-15</td>\n    </tr>\n    <tr>\n      <th>1</th>\n      <td>#BKKY</td>\n      <td>2016</td>\n      <td>Cambodia</td>\n      <td>2017-10-12</td>\n    </tr>\n    <tr>\n      <th>2</th>\n      <td>#Beings</td>\n      <td>2015</td>\n      <td>Romania</td>\n      <td>2015-01-29</td>\n    </tr>\n    <tr>\n      <th>3</th>\n      <td>#Captured</td>\n      <td>2017</td>\n      <td>USA</td>\n      <td>2017-09-05</td>\n    </tr>\n    <tr>\n      <th>4</th>\n      <td>#Ewankosau saranghaeyo</td>\n      <td>2015</td>\n      <td>Philippines</td>\n      <td>2015-01-21</td>\n    </tr>\n  </tbody>\n</table>\n</div>"
     },
     "execution_count": 257,
     "metadata": {},
     "output_type": "execute_result"
    }
   ],
   "source": [
    "release_dates.head()"
   ]
  },
  {
   "cell_type": "markdown",
   "metadata": {},
   "source": [
    "# Section I - Basic Querying, Filtering and Transformations"
   ]
  },
  {
   "cell_type": "markdown",
   "metadata": {},
   "source": [
    "### What is the total number of movies?"
   ]
  },
  {
   "cell_type": "code",
   "execution_count": 258,
   "metadata": {
    "ExecuteTime": {
     "start_time": "2023-05-01T14:23:59.223402Z",
     "end_time": "2023-05-01T14:23:59.229203Z"
    }
   },
   "outputs": [
    {
     "data": {
      "text/plain": "244914"
     },
     "execution_count": 258,
     "metadata": {},
     "output_type": "execute_result"
    }
   ],
   "source": [
    "len(movies)"
   ]
  },
  {
   "cell_type": "markdown",
   "metadata": {},
   "source": [
    "### List all Batman movies ever made"
   ]
  },
  {
   "cell_type": "code",
   "execution_count": 259,
   "metadata": {
    "ExecuteTime": {
     "start_time": "2023-05-01T14:24:10.792940Z",
     "end_time": "2023-05-01T14:24:10.849600Z"
    }
   },
   "outputs": [
    {
     "name": "stdout",
     "output_type": "stream",
     "text": [
      "Total Batman Movies: 2\n"
     ]
    },
    {
     "data": {
      "text/plain": "         title  year\n52734   Batman  1943\n150621  Batman  1989",
      "text/html": "<div>\n<style scoped>\n    .dataframe tbody tr th:only-of-type {\n        vertical-align: middle;\n    }\n\n    .dataframe tbody tr th {\n        vertical-align: top;\n    }\n\n    .dataframe thead th {\n        text-align: right;\n    }\n</style>\n<table border=\"1\" class=\"dataframe\">\n  <thead>\n    <tr style=\"text-align: right;\">\n      <th></th>\n      <th>title</th>\n      <th>year</th>\n    </tr>\n  </thead>\n  <tbody>\n    <tr>\n      <th>52734</th>\n      <td>Batman</td>\n      <td>1943</td>\n    </tr>\n    <tr>\n      <th>150621</th>\n      <td>Batman</td>\n      <td>1989</td>\n    </tr>\n  </tbody>\n</table>\n</div>"
     },
     "execution_count": 259,
     "metadata": {},
     "output_type": "execute_result"
    }
   ],
   "source": [
    "batman_df = movies[movies.title == 'Batman']\n",
    "print('Total Batman Movies:', len(batman_df))\n",
    "batman_df"
   ]
  },
  {
   "cell_type": "markdown",
   "metadata": {},
   "source": [
    "### List all Batman movies ever made - the right approach"
   ]
  },
  {
   "cell_type": "code",
   "execution_count": 260,
   "metadata": {
    "ExecuteTime": {
     "start_time": "2023-05-01T14:24:17.944596Z",
     "end_time": "2023-05-01T14:24:18.132461Z"
    }
   },
   "outputs": [
    {
     "name": "stdout",
     "output_type": "stream",
     "text": [
      "Total Batman Movies: 35\n"
     ]
    },
    {
     "data": {
      "text/plain": "                                             title  year\n16813                              Batman: Anarchy  2016\n30236                               Batman Forever  1995\n31674                                Batman Untold  2010\n31711  Scooby-Doo & Batman: the Brave and the Bold  2018\n41881                  Batman the Rise of Red Hood  2018\n43484        Batman: Return of the Caped Crusaders  2016\n46333                               Batman & Robin  1997\n51811                              Batman Revealed  2012\n52734                                       Batman  1943\n56029                 Batman Beyond: Rising Knight  2014",
      "text/html": "<div>\n<style scoped>\n    .dataframe tbody tr th:only-of-type {\n        vertical-align: middle;\n    }\n\n    .dataframe tbody tr th {\n        vertical-align: top;\n    }\n\n    .dataframe thead th {\n        text-align: right;\n    }\n</style>\n<table border=\"1\" class=\"dataframe\">\n  <thead>\n    <tr style=\"text-align: right;\">\n      <th></th>\n      <th>title</th>\n      <th>year</th>\n    </tr>\n  </thead>\n  <tbody>\n    <tr>\n      <th>16813</th>\n      <td>Batman: Anarchy</td>\n      <td>2016</td>\n    </tr>\n    <tr>\n      <th>30236</th>\n      <td>Batman Forever</td>\n      <td>1995</td>\n    </tr>\n    <tr>\n      <th>31674</th>\n      <td>Batman Untold</td>\n      <td>2010</td>\n    </tr>\n    <tr>\n      <th>31711</th>\n      <td>Scooby-Doo &amp; Batman: the Brave and the Bold</td>\n      <td>2018</td>\n    </tr>\n    <tr>\n      <th>41881</th>\n      <td>Batman the Rise of Red Hood</td>\n      <td>2018</td>\n    </tr>\n    <tr>\n      <th>43484</th>\n      <td>Batman: Return of the Caped Crusaders</td>\n      <td>2016</td>\n    </tr>\n    <tr>\n      <th>46333</th>\n      <td>Batman &amp; Robin</td>\n      <td>1997</td>\n    </tr>\n    <tr>\n      <th>51811</th>\n      <td>Batman Revealed</td>\n      <td>2012</td>\n    </tr>\n    <tr>\n      <th>52734</th>\n      <td>Batman</td>\n      <td>1943</td>\n    </tr>\n    <tr>\n      <th>56029</th>\n      <td>Batman Beyond: Rising Knight</td>\n      <td>2014</td>\n    </tr>\n  </tbody>\n</table>\n</div>"
     },
     "execution_count": 260,
     "metadata": {},
     "output_type": "execute_result"
    }
   ],
   "source": [
    "batman_df = movies[movies.title.str.contains('Batman', case=False)]\n",
    "print('Total Batman Movies:', len(batman_df))\n",
    "batman_df.head(10)"
   ]
  },
  {
   "cell_type": "markdown",
   "metadata": {},
   "source": [
    "### Display the top 15 Batman movies in the order they were released"
   ]
  },
  {
   "cell_type": "code",
   "execution_count": 261,
   "metadata": {
    "ExecuteTime": {
     "start_time": "2023-05-01T14:24:29.929479Z",
     "end_time": "2023-05-01T14:24:30.000895Z"
    }
   },
   "outputs": [
    {
     "data": {
      "text/plain": "                               title  year\n52734                         Batman  1943\n100056              Batman and Robin  1949\n161439                Batman Dracula  1964\n84327          Alyas Batman at Robin  1965\n68364                   James Batman  1966\n161527             Batman: The Movie  1966\n56159          Batman Fights Dracula  1967\n168504         Fight! Batman, Fight!  1973\n150621                        Batman  1989\n156239         Alyas Batman en Robin  1991\n156755                Batman Returns  1992\n63366   Batman: Mask of the Phantasm  1993\n30236                 Batman Forever  1995\n46333                 Batman & Robin  1997\n208220                 Batman Begins  2005",
      "text/html": "<div>\n<style scoped>\n    .dataframe tbody tr th:only-of-type {\n        vertical-align: middle;\n    }\n\n    .dataframe tbody tr th {\n        vertical-align: top;\n    }\n\n    .dataframe thead th {\n        text-align: right;\n    }\n</style>\n<table border=\"1\" class=\"dataframe\">\n  <thead>\n    <tr style=\"text-align: right;\">\n      <th></th>\n      <th>title</th>\n      <th>year</th>\n    </tr>\n  </thead>\n  <tbody>\n    <tr>\n      <th>52734</th>\n      <td>Batman</td>\n      <td>1943</td>\n    </tr>\n    <tr>\n      <th>100056</th>\n      <td>Batman and Robin</td>\n      <td>1949</td>\n    </tr>\n    <tr>\n      <th>161439</th>\n      <td>Batman Dracula</td>\n      <td>1964</td>\n    </tr>\n    <tr>\n      <th>84327</th>\n      <td>Alyas Batman at Robin</td>\n      <td>1965</td>\n    </tr>\n    <tr>\n      <th>68364</th>\n      <td>James Batman</td>\n      <td>1966</td>\n    </tr>\n    <tr>\n      <th>161527</th>\n      <td>Batman: The Movie</td>\n      <td>1966</td>\n    </tr>\n    <tr>\n      <th>56159</th>\n      <td>Batman Fights Dracula</td>\n      <td>1967</td>\n    </tr>\n    <tr>\n      <th>168504</th>\n      <td>Fight! Batman, Fight!</td>\n      <td>1973</td>\n    </tr>\n    <tr>\n      <th>150621</th>\n      <td>Batman</td>\n      <td>1989</td>\n    </tr>\n    <tr>\n      <th>156239</th>\n      <td>Alyas Batman en Robin</td>\n      <td>1991</td>\n    </tr>\n    <tr>\n      <th>156755</th>\n      <td>Batman Returns</td>\n      <td>1992</td>\n    </tr>\n    <tr>\n      <th>63366</th>\n      <td>Batman: Mask of the Phantasm</td>\n      <td>1993</td>\n    </tr>\n    <tr>\n      <th>30236</th>\n      <td>Batman Forever</td>\n      <td>1995</td>\n    </tr>\n    <tr>\n      <th>46333</th>\n      <td>Batman &amp; Robin</td>\n      <td>1997</td>\n    </tr>\n    <tr>\n      <th>208220</th>\n      <td>Batman Begins</td>\n      <td>2005</td>\n    </tr>\n  </tbody>\n</table>\n</div>"
     },
     "execution_count": 261,
     "metadata": {},
     "output_type": "execute_result"
    }
   ],
   "source": [
    "batman_df.sort_values(by=['year'], ascending=True).iloc[:15]"
   ]
  },
  {
   "cell_type": "markdown",
   "metadata": {},
   "source": [
    "### Section I - Q1 : List all the 'Harry Potter' movies from the most recent to the earliest"
   ]
  },
  {
   "cell_type": "code",
   "execution_count": 262,
   "metadata": {
    "ExecuteTime": {
     "start_time": "2023-05-01T14:24:39.500636Z",
     "end_time": "2023-05-01T14:24:39.645180Z"
    }
   },
   "outputs": [
    {
     "data": {
      "text/plain": "                                               title  year\n143147  Harry Potter and the Deathly Hallows: Part 2  2011\n152831  Harry Potter and the Deathly Hallows: Part 1  2010\n109213        Harry Potter and the Half-Blood Prince  2009\n50581      Harry Potter and the Order of the Phoenix  2007\n187926           Harry Potter and the Goblet of Fire  2005\n61957       Harry Potter and the Prisoner of Azkaban  2004\n82791        Harry Potter and the Chamber of Secrets  2002\n223087         Harry Potter and the Sorcerer's Stone  2001",
      "text/html": "<div>\n<style scoped>\n    .dataframe tbody tr th:only-of-type {\n        vertical-align: middle;\n    }\n\n    .dataframe tbody tr th {\n        vertical-align: top;\n    }\n\n    .dataframe thead th {\n        text-align: right;\n    }\n</style>\n<table border=\"1\" class=\"dataframe\">\n  <thead>\n    <tr style=\"text-align: right;\">\n      <th></th>\n      <th>title</th>\n      <th>year</th>\n    </tr>\n  </thead>\n  <tbody>\n    <tr>\n      <th>143147</th>\n      <td>Harry Potter and the Deathly Hallows: Part 2</td>\n      <td>2011</td>\n    </tr>\n    <tr>\n      <th>152831</th>\n      <td>Harry Potter and the Deathly Hallows: Part 1</td>\n      <td>2010</td>\n    </tr>\n    <tr>\n      <th>109213</th>\n      <td>Harry Potter and the Half-Blood Prince</td>\n      <td>2009</td>\n    </tr>\n    <tr>\n      <th>50581</th>\n      <td>Harry Potter and the Order of the Phoenix</td>\n      <td>2007</td>\n    </tr>\n    <tr>\n      <th>187926</th>\n      <td>Harry Potter and the Goblet of Fire</td>\n      <td>2005</td>\n    </tr>\n    <tr>\n      <th>61957</th>\n      <td>Harry Potter and the Prisoner of Azkaban</td>\n      <td>2004</td>\n    </tr>\n    <tr>\n      <th>82791</th>\n      <td>Harry Potter and the Chamber of Secrets</td>\n      <td>2002</td>\n    </tr>\n    <tr>\n      <th>223087</th>\n      <td>Harry Potter and the Sorcerer's Stone</td>\n      <td>2001</td>\n    </tr>\n  </tbody>\n</table>\n</div>"
     },
     "execution_count": 262,
     "metadata": {},
     "output_type": "execute_result"
    }
   ],
   "source": [
    "hp_df = movies[movies.title.str.contains('Harry Potter', case=False)]\n",
    "hp_df.sort_values(by=['year'], ascending=False)"
   ]
  },
  {
   "cell_type": "markdown",
   "metadata": {},
   "source": [
    "### How many movies were made in the year 2017?"
   ]
  },
  {
   "cell_type": "code",
   "execution_count": 263,
   "metadata": {
    "ExecuteTime": {
     "start_time": "2023-05-01T14:24:49.218183Z",
     "end_time": "2023-05-01T14:24:49.261509Z"
    }
   },
   "outputs": [
    {
     "data": {
      "text/plain": "11474"
     },
     "execution_count": 263,
     "metadata": {},
     "output_type": "execute_result"
    }
   ],
   "source": [
    "len(movies[movies.year == 2017])"
   ]
  },
  {
   "cell_type": "markdown",
   "metadata": {},
   "source": [
    "### Section I - Q2 : How many movies were made in the year 2015?"
   ]
  },
  {
   "cell_type": "code",
   "execution_count": 264,
   "metadata": {
    "ExecuteTime": {
     "start_time": "2023-05-01T14:24:58.295881Z",
     "end_time": "2023-05-01T14:24:58.319224Z"
    }
   },
   "outputs": [
    {
     "data": {
      "text/plain": "8702"
     },
     "execution_count": 264,
     "metadata": {},
     "output_type": "execute_result"
    }
   ],
   "source": [
    "len(movies[movies.year == 2015])"
   ]
  },
  {
   "cell_type": "markdown",
   "metadata": {},
   "source": [
    "### Section I - Q3 : How many movies were made from 2000 till 2018?\n",
    "- You can chain multiple conditions using OR (`|`) as well as AND (`&`) depending on the condition"
   ]
  },
  {
   "cell_type": "code",
   "execution_count": 265,
   "metadata": {
    "ExecuteTime": {
     "start_time": "2023-05-01T14:25:06.481469Z",
     "end_time": "2023-05-01T14:25:06.513821Z"
    }
   },
   "outputs": [
    {
     "data": {
      "text/plain": "114070"
     },
     "execution_count": 265,
     "metadata": {},
     "output_type": "execute_result"
    }
   ],
   "source": [
    "len(movies[(movies.year >= 2000) & (movies.year <= 2018 )])"
   ]
  },
  {
   "cell_type": "markdown",
   "metadata": {},
   "source": [
    "### Section I - Q4: How many movies are titled \"Hamlet\"?"
   ]
  },
  {
   "cell_type": "code",
   "execution_count": 266,
   "metadata": {
    "ExecuteTime": {
     "start_time": "2023-05-01T14:25:12.652570Z",
     "end_time": "2023-05-01T14:25:12.696933Z"
    }
   },
   "outputs": [
    {
     "data": {
      "text/plain": "20"
     },
     "execution_count": 266,
     "metadata": {},
     "output_type": "execute_result"
    }
   ],
   "source": [
    "hamlet_df = movies[movies.title == 'Hamlet']\n",
    "len(hamlet_df)"
   ]
  },
  {
   "cell_type": "markdown",
   "metadata": {},
   "source": [
    "### Section I - Q5: List all movies titled \"Hamlet\" \n",
    "- The movies should only have been released on or after the year 2000\n",
    "- Display the movies based on the year they were released (earliest to most recent)"
   ]
  },
  {
   "cell_type": "code",
   "execution_count": 267,
   "metadata": {
    "ExecuteTime": {
     "start_time": "2023-05-01T14:25:29.901859Z",
     "end_time": "2023-05-01T14:25:29.963207Z"
    }
   },
   "outputs": [
    {
     "data": {
      "text/plain": "         title  year\n55639   Hamlet  2000\n1931    Hamlet  2009\n227953  Hamlet  2011\n178290  Hamlet  2014\n186137  Hamlet  2015\n191940  Hamlet  2016\n244747  Hamlet  2017",
      "text/html": "<div>\n<style scoped>\n    .dataframe tbody tr th:only-of-type {\n        vertical-align: middle;\n    }\n\n    .dataframe tbody tr th {\n        vertical-align: top;\n    }\n\n    .dataframe thead th {\n        text-align: right;\n    }\n</style>\n<table border=\"1\" class=\"dataframe\">\n  <thead>\n    <tr style=\"text-align: right;\">\n      <th></th>\n      <th>title</th>\n      <th>year</th>\n    </tr>\n  </thead>\n  <tbody>\n    <tr>\n      <th>55639</th>\n      <td>Hamlet</td>\n      <td>2000</td>\n    </tr>\n    <tr>\n      <th>1931</th>\n      <td>Hamlet</td>\n      <td>2009</td>\n    </tr>\n    <tr>\n      <th>227953</th>\n      <td>Hamlet</td>\n      <td>2011</td>\n    </tr>\n    <tr>\n      <th>178290</th>\n      <td>Hamlet</td>\n      <td>2014</td>\n    </tr>\n    <tr>\n      <th>186137</th>\n      <td>Hamlet</td>\n      <td>2015</td>\n    </tr>\n    <tr>\n      <th>191940</th>\n      <td>Hamlet</td>\n      <td>2016</td>\n    </tr>\n    <tr>\n      <th>244747</th>\n      <td>Hamlet</td>\n      <td>2017</td>\n    </tr>\n  </tbody>\n</table>\n</div>"
     },
     "execution_count": 267,
     "metadata": {},
     "output_type": "execute_result"
    }
   ],
   "source": [
    "hamlet_filtered_df = hamlet_df[hamlet_df.year >= 2000]\n",
    "hamlet_filtered_df.sort_values(by=['year'])"
   ]
  },
  {
   "cell_type": "markdown",
   "metadata": {},
   "source": [
    "### Section I - Q6: How many roles in the movie \"Inception\" are of the supporting cast (extra credits)\n",
    "- supporting cast are NOT ranked by an \"n\" value (NaN)\n",
    "- check for how to filter based on nulls"
   ]
  },
  {
   "cell_type": "code",
   "execution_count": 268,
   "metadata": {
    "ExecuteTime": {
     "start_time": "2023-05-01T14:25:49.738359Z",
     "end_time": "2023-05-01T14:25:49.795854Z"
    }
   },
   "outputs": [
    {
     "data": {
      "text/plain": "27"
     },
     "execution_count": 268,
     "metadata": {},
     "output_type": "execute_result"
    }
   ],
   "source": [
    "len(cast[(cast.title == 'Inception') & (cast.n.isnull())])"
   ]
  },
  {
   "cell_type": "markdown",
   "metadata": {},
   "source": [
    "### Section I - Q7: How many roles in the movie \"Inception\" are of the main cast\n",
    "- main cast always have an 'n' value"
   ]
  },
  {
   "cell_type": "code",
   "execution_count": 269,
   "metadata": {
    "ExecuteTime": {
     "start_time": "2023-05-01T14:25:54.453423Z",
     "end_time": "2023-05-01T14:25:54.491541Z"
    }
   },
   "outputs": [
    {
     "data": {
      "text/plain": "51"
     },
     "execution_count": 269,
     "metadata": {},
     "output_type": "execute_result"
    }
   ],
   "source": [
    "len(cast[(cast.title == 'Inception') & (cast.n.notnull())])"
   ]
  },
  {
   "cell_type": "markdown",
   "metadata": {},
   "source": [
    "### Section I - Q8: Show the top ten cast (actors\\actresses) in the movie \"Inception\" \n",
    "- main cast always have an 'n' value\n",
    "- remember to sort!"
   ]
  },
  {
   "cell_type": "code",
   "execution_count": 270,
   "metadata": {
    "ExecuteTime": {
     "start_time": "2023-05-01T14:26:03.909398Z",
     "end_time": "2023-05-01T14:26:04.392051Z"
    }
   },
   "outputs": [
    {
     "data": {
      "text/plain": "             title  year                  name     type        character     n\n590576   Inception  2010     Leonardo DiCaprio    actor             Cobb   1.0\n859993   Inception  2010  Joseph Gordon-Levitt    actor           Arthur   2.0\n3387147  Inception  2010            Ellen Page  actress          Ariadne   3.0\n940923   Inception  2010             Tom Hardy    actor            Eames   4.0\n2406531  Inception  2010          Ken Watanabe    actor            Saito   5.0\n1876301  Inception  2010            Dileep Rao    actor            Yusuf   6.0\n1615709  Inception  2010        Cillian Murphy    actor   Robert Fischer   7.0\n183937   Inception  2010          Tom Berenger    actor         Browning   8.0\n2765969  Inception  2010      Marion Cotillard  actress              Mal   9.0\n1826027  Inception  2010    Pete Postlethwaite    actor  Maurice Fischer  10.0",
      "text/html": "<div>\n<style scoped>\n    .dataframe tbody tr th:only-of-type {\n        vertical-align: middle;\n    }\n\n    .dataframe tbody tr th {\n        vertical-align: top;\n    }\n\n    .dataframe thead th {\n        text-align: right;\n    }\n</style>\n<table border=\"1\" class=\"dataframe\">\n  <thead>\n    <tr style=\"text-align: right;\">\n      <th></th>\n      <th>title</th>\n      <th>year</th>\n      <th>name</th>\n      <th>type</th>\n      <th>character</th>\n      <th>n</th>\n    </tr>\n  </thead>\n  <tbody>\n    <tr>\n      <th>590576</th>\n      <td>Inception</td>\n      <td>2010</td>\n      <td>Leonardo DiCaprio</td>\n      <td>actor</td>\n      <td>Cobb</td>\n      <td>1.0</td>\n    </tr>\n    <tr>\n      <th>859993</th>\n      <td>Inception</td>\n      <td>2010</td>\n      <td>Joseph Gordon-Levitt</td>\n      <td>actor</td>\n      <td>Arthur</td>\n      <td>2.0</td>\n    </tr>\n    <tr>\n      <th>3387147</th>\n      <td>Inception</td>\n      <td>2010</td>\n      <td>Ellen Page</td>\n      <td>actress</td>\n      <td>Ariadne</td>\n      <td>3.0</td>\n    </tr>\n    <tr>\n      <th>940923</th>\n      <td>Inception</td>\n      <td>2010</td>\n      <td>Tom Hardy</td>\n      <td>actor</td>\n      <td>Eames</td>\n      <td>4.0</td>\n    </tr>\n    <tr>\n      <th>2406531</th>\n      <td>Inception</td>\n      <td>2010</td>\n      <td>Ken Watanabe</td>\n      <td>actor</td>\n      <td>Saito</td>\n      <td>5.0</td>\n    </tr>\n    <tr>\n      <th>1876301</th>\n      <td>Inception</td>\n      <td>2010</td>\n      <td>Dileep Rao</td>\n      <td>actor</td>\n      <td>Yusuf</td>\n      <td>6.0</td>\n    </tr>\n    <tr>\n      <th>1615709</th>\n      <td>Inception</td>\n      <td>2010</td>\n      <td>Cillian Murphy</td>\n      <td>actor</td>\n      <td>Robert Fischer</td>\n      <td>7.0</td>\n    </tr>\n    <tr>\n      <th>183937</th>\n      <td>Inception</td>\n      <td>2010</td>\n      <td>Tom Berenger</td>\n      <td>actor</td>\n      <td>Browning</td>\n      <td>8.0</td>\n    </tr>\n    <tr>\n      <th>2765969</th>\n      <td>Inception</td>\n      <td>2010</td>\n      <td>Marion Cotillard</td>\n      <td>actress</td>\n      <td>Mal</td>\n      <td>9.0</td>\n    </tr>\n    <tr>\n      <th>1826027</th>\n      <td>Inception</td>\n      <td>2010</td>\n      <td>Pete Postlethwaite</td>\n      <td>actor</td>\n      <td>Maurice Fischer</td>\n      <td>10.0</td>\n    </tr>\n  </tbody>\n</table>\n</div>"
     },
     "execution_count": 270,
     "metadata": {},
     "output_type": "execute_result"
    }
   ],
   "source": [
    "inception_main_df = cast[(cast.title == 'Inception') & (cast.n.notnull())]\n",
    "inception_main_df.sort_values(\"n\")[:10]"
   ]
  },
  {
   "cell_type": "markdown",
   "metadata": {},
   "source": [
    "### Section I - Q9:\n",
    "\n",
    "(A) List all movies where there was a character 'Albus Dumbledore' \n",
    "\n",
    "(B) Now modify the above to show only the actors who played the character 'Albus Dumbledore'\n",
    "- For Part (B) remember the same actor might play the same role in multiple movies"
   ]
  },
  {
   "cell_type": "code",
   "execution_count": 271,
   "metadata": {
    "ExecuteTime": {
     "start_time": "2023-05-01T14:26:15.475325Z",
     "end_time": "2023-05-01T14:26:15.910616Z"
    }
   },
   "outputs": [
    {
     "data": {
      "text/plain": "['Epic Movie',\n 'Harry Potter and the Goblet of Fire',\n 'Harry Potter and the Order of the Phoenix',\n 'Harry Potter and the Prisoner of Azkaban',\n 'Harry Potter and the Chamber of Secrets',\n \"Harry Potter and the Sorcerer's Stone\",\n 'Ultimate Hero Project',\n 'Potter']"
     },
     "execution_count": 271,
     "metadata": {},
     "output_type": "execute_result"
    }
   ],
   "source": [
    "list(cast.loc[cast.character == 'Albus Dumbledore', 'title'])"
   ]
  },
  {
   "cell_type": "code",
   "execution_count": 272,
   "metadata": {
    "ExecuteTime": {
     "start_time": "2023-05-01T14:26:33.645803Z",
     "end_time": "2023-05-01T14:26:34.254749Z"
    }
   },
   "outputs": [
    {
     "data": {
      "text/plain": "{'Dane Farwell',\n \"George (X) O'Connor\",\n 'Michael Gambon',\n 'Richard Harris',\n 'Timothy Tedmanson'}"
     },
     "execution_count": 272,
     "metadata": {},
     "output_type": "execute_result"
    }
   ],
   "source": [
    "set(cast.loc[cast.character == 'Albus Dumbledore', 'name'])"
   ]
  },
  {
   "cell_type": "markdown",
   "metadata": {},
   "source": [
    "### Section I - Q10:\n",
    "\n",
    "(A) How many roles has 'Keanu Reeves' played throughout his career?\n",
    "\n",
    "(B) List the leading roles that 'Keanu Reeves' played on or after 1999 in order by year."
   ]
  },
  {
   "cell_type": "code",
   "execution_count": 273,
   "metadata": {
    "ExecuteTime": {
     "start_time": "2023-05-01T14:26:58.806498Z",
     "end_time": "2023-05-01T14:26:58.818138Z"
    }
   },
   "outputs": [
    {
     "data": {
      "text/plain": "62"
     },
     "execution_count": 273,
     "metadata": {},
     "output_type": "execute_result"
    }
   ],
   "source": [
    "len(cast[cast.name == 'Keanu Reeves'])"
   ]
  },
  {
   "cell_type": "code",
   "execution_count": 274,
   "metadata": {
    "ExecuteTime": {
     "start_time": "2023-05-01T14:27:06.443453Z",
     "end_time": "2023-05-01T14:27:06.512390Z"
    }
   },
   "outputs": [
    {
     "data": {
      "text/plain": "                                 title  year          name   type  \\\n1892390                     The Matrix  1999  Keanu Reeves  actor   \n1892397               The Replacements  2000  Keanu Reeves  actor   \n1892358                      Hard Ball  2001  Keanu Reeves  actor   \n1892383                 Sweet November  2001  Keanu Reeves  actor   \n1892348                    Constantine  2005  Keanu Reeves  actor   \n1892388                 The Lake House  2006  Keanu Reeves  actor   \n1892382                   Street Kings  2008  Keanu Reeves  actor   \n1892385  The Day the Earth Stood Still  2008  Keanu Reeves  actor   \n1892359                  Henry's Crime  2010  Keanu Reeves  actor   \n1892342                       47 Ronin  2013  Keanu Reeves  actor   \n1892361                      John Wick  2014  Keanu Reeves  actor   \n1892366                    Knock Knock  2015  Keanu Reeves  actor   \n1892399                The Whole Truth  2016  Keanu Reeves  actor   \n1892362           John Wick: Chapter 2  2017  Keanu Reeves  actor   \n1892378                        Siberia  2018  Keanu Reeves  actor   \n\n                    character    n  \n1892390                   Neo  1.0  \n1892397           Shane Falco  1.0  \n1892358         Conor O'Neill  1.0  \n1892383           Nelson Moss  1.0  \n1892348      John Constantine  1.0  \n1892388            Alex Wyler  1.0  \n1892382  Detective Tom Ludlow  1.0  \n1892385                Klaatu  1.0  \n1892359           Henry Torne  1.0  \n1892342                   Kai  1.0  \n1892361             John Wick  1.0  \n1892366                  Evan  1.0  \n1892399                Ramsey  1.0  \n1892362             John Wick  1.0  \n1892378            Lucas Hill  1.0  ",
      "text/html": "<div>\n<style scoped>\n    .dataframe tbody tr th:only-of-type {\n        vertical-align: middle;\n    }\n\n    .dataframe tbody tr th {\n        vertical-align: top;\n    }\n\n    .dataframe thead th {\n        text-align: right;\n    }\n</style>\n<table border=\"1\" class=\"dataframe\">\n  <thead>\n    <tr style=\"text-align: right;\">\n      <th></th>\n      <th>title</th>\n      <th>year</th>\n      <th>name</th>\n      <th>type</th>\n      <th>character</th>\n      <th>n</th>\n    </tr>\n  </thead>\n  <tbody>\n    <tr>\n      <th>1892390</th>\n      <td>The Matrix</td>\n      <td>1999</td>\n      <td>Keanu Reeves</td>\n      <td>actor</td>\n      <td>Neo</td>\n      <td>1.0</td>\n    </tr>\n    <tr>\n      <th>1892397</th>\n      <td>The Replacements</td>\n      <td>2000</td>\n      <td>Keanu Reeves</td>\n      <td>actor</td>\n      <td>Shane Falco</td>\n      <td>1.0</td>\n    </tr>\n    <tr>\n      <th>1892358</th>\n      <td>Hard Ball</td>\n      <td>2001</td>\n      <td>Keanu Reeves</td>\n      <td>actor</td>\n      <td>Conor O'Neill</td>\n      <td>1.0</td>\n    </tr>\n    <tr>\n      <th>1892383</th>\n      <td>Sweet November</td>\n      <td>2001</td>\n      <td>Keanu Reeves</td>\n      <td>actor</td>\n      <td>Nelson Moss</td>\n      <td>1.0</td>\n    </tr>\n    <tr>\n      <th>1892348</th>\n      <td>Constantine</td>\n      <td>2005</td>\n      <td>Keanu Reeves</td>\n      <td>actor</td>\n      <td>John Constantine</td>\n      <td>1.0</td>\n    </tr>\n    <tr>\n      <th>1892388</th>\n      <td>The Lake House</td>\n      <td>2006</td>\n      <td>Keanu Reeves</td>\n      <td>actor</td>\n      <td>Alex Wyler</td>\n      <td>1.0</td>\n    </tr>\n    <tr>\n      <th>1892382</th>\n      <td>Street Kings</td>\n      <td>2008</td>\n      <td>Keanu Reeves</td>\n      <td>actor</td>\n      <td>Detective Tom Ludlow</td>\n      <td>1.0</td>\n    </tr>\n    <tr>\n      <th>1892385</th>\n      <td>The Day the Earth Stood Still</td>\n      <td>2008</td>\n      <td>Keanu Reeves</td>\n      <td>actor</td>\n      <td>Klaatu</td>\n      <td>1.0</td>\n    </tr>\n    <tr>\n      <th>1892359</th>\n      <td>Henry's Crime</td>\n      <td>2010</td>\n      <td>Keanu Reeves</td>\n      <td>actor</td>\n      <td>Henry Torne</td>\n      <td>1.0</td>\n    </tr>\n    <tr>\n      <th>1892342</th>\n      <td>47 Ronin</td>\n      <td>2013</td>\n      <td>Keanu Reeves</td>\n      <td>actor</td>\n      <td>Kai</td>\n      <td>1.0</td>\n    </tr>\n    <tr>\n      <th>1892361</th>\n      <td>John Wick</td>\n      <td>2014</td>\n      <td>Keanu Reeves</td>\n      <td>actor</td>\n      <td>John Wick</td>\n      <td>1.0</td>\n    </tr>\n    <tr>\n      <th>1892366</th>\n      <td>Knock Knock</td>\n      <td>2015</td>\n      <td>Keanu Reeves</td>\n      <td>actor</td>\n      <td>Evan</td>\n      <td>1.0</td>\n    </tr>\n    <tr>\n      <th>1892399</th>\n      <td>The Whole Truth</td>\n      <td>2016</td>\n      <td>Keanu Reeves</td>\n      <td>actor</td>\n      <td>Ramsey</td>\n      <td>1.0</td>\n    </tr>\n    <tr>\n      <th>1892362</th>\n      <td>John Wick: Chapter 2</td>\n      <td>2017</td>\n      <td>Keanu Reeves</td>\n      <td>actor</td>\n      <td>John Wick</td>\n      <td>1.0</td>\n    </tr>\n    <tr>\n      <th>1892378</th>\n      <td>Siberia</td>\n      <td>2018</td>\n      <td>Keanu Reeves</td>\n      <td>actor</td>\n      <td>Lucas Hill</td>\n      <td>1.0</td>\n    </tr>\n  </tbody>\n</table>\n</div>"
     },
     "execution_count": 274,
     "metadata": {},
     "output_type": "execute_result"
    }
   ],
   "source": [
    "cast[(cast.name == 'Keanu Reeves') & (cast.year >= 1999) & (cast.n == 1)].sort_values(\"year\")"
   ]
  },
  {
   "cell_type": "markdown",
   "metadata": {},
   "source": [
    "### Section I - Q11: \n",
    "\n",
    "(A) List the total number of actor and actress roles available from 1950 - 1960\n",
    "\n",
    "(B) List the total number of actor and actress roles available from 2007 - 2017"
   ]
  },
  {
   "cell_type": "code",
   "execution_count": 275,
   "metadata": {
    "ExecuteTime": {
     "start_time": "2023-05-01T14:27:35.152187Z",
     "end_time": "2023-05-01T14:27:36.383273Z"
    }
   },
   "outputs": [
    {
     "name": "stdout",
     "output_type": "stream",
     "text": [
      "Number of actor roles: 171302\n",
      "Number of actress roles: 63333\n",
      "Number of total roles: 234635\n"
     ]
    }
   ],
   "source": [
    "print(\"Number of actor roles:\", len(cast[(cast.year >= 1950) & (cast.year <= 1960) & (cast.type == 'actor')]))\n",
    "print(\"Number of actress roles:\", len(cast[(cast.year >= 1950) & (cast.year <= 1960) & (cast.type == 'actress')]))\n",
    "print(\"Number of total roles:\", len(cast[(cast.year >= 1950) & (cast.year <= 1960) & (cast.type.isin(['actor', 'actress']))]))"
   ]
  },
  {
   "cell_type": "code",
   "execution_count": 276,
   "metadata": {
    "ExecuteTime": {
     "start_time": "2023-05-01T14:27:37.532910Z",
     "end_time": "2023-05-01T14:27:39.199807Z"
    }
   },
   "outputs": [
    {
     "name": "stdout",
     "output_type": "stream",
     "text": [
      "Number of actor roles: 922782\n",
      "Number of actress roles: 529631\n",
      "Number of total roles: 1452413\n"
     ]
    }
   ],
   "source": [
    "print(\"Number of actor roles:\", len(cast[(cast.year >= 2007) & (cast.year <= 2017) & (cast.type == 'actor')]))\n",
    "print(\"Number of actress roles:\", len(cast[(cast.year >= 2007) & (cast.year <= 2017) & (cast.type == 'actress')]))\n",
    "print(\"Number of total roles:\", len(cast[(cast.year >= 2007) & (cast.year <= 2017) & (cast.type.isin(['actor', 'actress']))]))"
   ]
  },
  {
   "cell_type": "markdown",
   "metadata": {},
   "source": [
    "### Section I - Q12: \n",
    "\n",
    "(A) List the total number of leading roles available from 2000 to present\n",
    "\n",
    "(B) List the total number of non-leading roles available from 2000 - present (exclude support cast)\n",
    "\n",
    "(C) List the total number of support\\extra-credit roles available from 2000 - present"
   ]
  },
  {
   "cell_type": "code",
   "execution_count": 277,
   "metadata": {
    "ExecuteTime": {
     "start_time": "2023-05-01T14:28:06.489870Z",
     "end_time": "2023-05-01T14:28:06.868202Z"
    }
   },
   "outputs": [
    {
     "name": "stdout",
     "output_type": "stream",
     "text": [
      "Number of leading roles: 60568\n"
     ]
    }
   ],
   "source": [
    "print(\"Number of leading roles:\", len(cast[(cast.year >= 2000) & (cast.n == 1)]))"
   ]
  },
  {
   "cell_type": "code",
   "execution_count": 278,
   "metadata": {
    "ExecuteTime": {
     "start_time": "2023-05-01T14:28:08.121760Z",
     "end_time": "2023-05-01T14:28:08.824515Z"
    }
   },
   "outputs": [
    {
     "name": "stdout",
     "output_type": "stream",
     "text": [
      "Number of non-leading roles: 1001710\n"
     ]
    }
   ],
   "source": [
    "print(\"Number of non-leading roles:\", len(cast[(cast.year >= 2000) & (cast.n != 1) & (cast.n.notnull())]))"
   ]
  },
  {
   "cell_type": "code",
   "execution_count": 279,
   "metadata": {
    "ExecuteTime": {
     "start_time": "2023-05-01T14:28:15.571605Z",
     "end_time": "2023-05-01T14:28:16.329930Z"
    }
   },
   "outputs": [
    {
     "name": "stdout",
     "output_type": "stream",
     "text": [
      "Number of support roles: 887484\n"
     ]
    }
   ],
   "source": [
    "print(\"Number of support roles:\", len(cast[(cast.year >= 2000) & (cast.n.isnull())]))"
   ]
  },
  {
   "cell_type": "markdown",
   "metadata": {},
   "source": [
    "# Section II - Aggregations, Transformations and Visualizations"
   ]
  },
  {
   "cell_type": "markdown",
   "metadata": {},
   "source": [
    "## What are the top ten most common movie names of all time?\n"
   ]
  },
  {
   "cell_type": "code",
   "execution_count": 280,
   "metadata": {
    "ExecuteTime": {
     "start_time": "2023-05-01T14:28:30.584268Z",
     "end_time": "2023-05-01T14:28:30.774842Z"
    }
   },
   "outputs": [
    {
     "data": {
      "text/plain": "Hamlet                  20\nCarmen                  17\nMacbeth                 16\nMaya                    12\nTemptation              12\nThe Outsider            12\nFreedom                 11\nThe Three Musketeers    11\nHoneymoon               11\nOthello                 11\nName: title, dtype: int64"
     },
     "execution_count": 280,
     "metadata": {},
     "output_type": "execute_result"
    }
   ],
   "source": [
    "top_ten = movies.title.value_counts()[:10]\n",
    "top_ten"
   ]
  },
  {
   "cell_type": "markdown",
   "metadata": {},
   "source": [
    "### Plot the top ten common movie names of all time"
   ]
  },
  {
   "cell_type": "code",
   "execution_count": 281,
   "metadata": {
    "ExecuteTime": {
     "start_time": "2023-05-01T14:28:50.825579Z",
     "end_time": "2023-05-01T14:28:51.005229Z"
    }
   },
   "outputs": [
    {
     "data": {
      "text/plain": "<Axes: >"
     },
     "execution_count": 281,
     "metadata": {},
     "output_type": "execute_result"
    },
    {
     "data": {
      "text/plain": "<Figure size 640x480 with 1 Axes>",
      "image/png": "[encoded data removed]"
     },
     "metadata": {},
     "output_type": "display_data"
    }
   ],
   "source": [
    "top_ten.plot(kind='barh')"
   ]
  },
  {
   "cell_type": "markdown",
   "metadata": {},
   "source": [
    "### Section II - Q1:  Which years in the 2000s saw the most movies released? (Show top 3)"
   ]
  },
  {
   "cell_type": "code",
   "execution_count": 283,
   "metadata": {
    "ExecuteTime": {
     "start_time": "2023-05-01T14:30:34.725660Z",
     "end_time": "2023-05-01T14:30:34.796394Z"
    }
   },
   "outputs": [
    {
     "data": {
      "text/plain": "2009    6125\n2008    5151\n2007    4467\nName: year, dtype: int64"
     },
     "execution_count": 283,
     "metadata": {},
     "output_type": "execute_result"
    }
   ],
   "source": [
    "twothousands_df = movies[(movies.year >= 2000) & (movies.year <= 2009)]\n",
    "twothousands_df.year.value_counts()[:3]"
   ]
  },
  {
   "cell_type": "markdown",
   "metadata": {},
   "source": [
    "### Section II - Q2: # Plot the total number of films released per-decade (1890, 1900, 1910,....)\n",
    "- Hint: Dividing the year and multiplying with a number might give you the decade the year falls into!\n",
    "- You might need to sort before plotting"
   ]
  },
  {
   "cell_type": "code",
   "execution_count": 291,
   "metadata": {
    "ExecuteTime": {
     "start_time": "2023-05-01T14:35:10.843738Z",
     "end_time": "2023-05-01T14:35:11.077455Z"
    }
   },
   "outputs": [
    {
     "data": {
      "text/plain": "<Axes: xlabel='year'>"
     },
     "execution_count": 291,
     "metadata": {},
     "output_type": "execute_result"
    },
    {
     "data": {
      "text/plain": "<Figure size 640x480 with 1 Axes>",
      "image/png": "[encoded data removed]"
     },
     "metadata": {},
     "output_type": "display_data"
    }
   ],
   "source": [
    "decade_df = movies.groupby((movies.year//10) * 10).size()\n",
    "decade_df.plot(kind='bar')"
   ]
  },
  {
   "cell_type": "markdown",
   "metadata": {},
   "source": [
    "### Section II - Q3: \n",
    "\n",
    "(A) What are the top 10 most common character names in movie history?\n",
    "\n",
    "(B) Who are the top 10 people most often credited as \"Herself\" in movie history?\n",
    "\n",
    "(C) Who are the top 10 people most often credited as \"Himself\" in movie history?"
   ]
  },
  {
   "cell_type": "code",
   "execution_count": 294,
   "metadata": {
    "ExecuteTime": {
     "start_time": "2023-05-01T14:36:33.005044Z",
     "end_time": "2023-05-01T14:36:35.475648Z"
    }
   },
   "outputs": [
    {
     "data": {
      "text/plain": "Himself        20746\nDancer         12477\nExtra          11948\nReporter        8434\nStudent         7773\nDoctor          7669\nParty Guest     7245\nPoliceman       7029\nNurse           6999\nBartender       6802\nName: character, dtype: int64"
     },
     "execution_count": 294,
     "metadata": {},
     "output_type": "execute_result"
    }
   ],
   "source": [
    "cast.character.value_counts()[:10]"
   ]
  },
  {
   "cell_type": "code",
   "execution_count": 298,
   "metadata": {
    "ExecuteTime": {
     "start_time": "2023-05-01T14:37:49.105443Z",
     "end_time": "2023-05-01T14:37:49.790365Z"
    }
   },
   "outputs": [
    {
     "data": {
      "text/plain": "Queen Elizabeth II           12\nJoyce Brothers                9\nLuisa Horga                   9\nMar?a Luisa (V) Mart?n        9\nMargaret Thatcher             8\nHillary Clinton               8\nIn?s J. Southern              6\nMar?a Isabel (III) Mart?n     6\nMarta Berrocal                6\nSumie Sakai                   6\nName: name, dtype: int64"
     },
     "execution_count": 298,
     "metadata": {},
     "output_type": "execute_result"
    }
   ],
   "source": [
    "herself_df = cast[cast.character == 'Herself']\n",
    "herself_df.name.value_counts()[:10]"
   ]
  },
  {
   "cell_type": "code",
   "execution_count": 300,
   "metadata": {
    "ExecuteTime": {
     "start_time": "2023-05-01T14:38:03.700686Z",
     "end_time": "2023-05-01T14:38:03.938535Z"
    }
   },
   "outputs": [
    {
     "data": {
      "text/plain": "Adolf Hitler             99\nRichard Nixon            44\nRonald Reagan            41\nJohn F. Kennedy          37\nGeorge W. Bush           25\nWinston Churchill        24\nMartin Luther King       23\nRon Jeremy               22\nBill Clinton             22\nFranklin D. Roosevelt    21\nName: name, dtype: int64"
     },
     "execution_count": 300,
     "metadata": {},
     "output_type": "execute_result"
    }
   ],
   "source": [
    "himself_df = cast[cast.character == 'Himself']\n",
    "himself_df.name.value_counts()[:10]"
   ]
  },
  {
   "cell_type": "markdown",
   "metadata": {},
   "source": [
    "### Section II - Q4: \n",
    "\n",
    "(A) What are the top 10 most frequent roles that start with the word \"Zombie\"?\n",
    "\n",
    "(B) What are the top 10 most frequent roles that start with the word \"Police\"?\n",
    "\n",
    "- Hint: The `startswith()` function might be useful"
   ]
  },
  {
   "cell_type": "code",
   "execution_count": 302,
   "metadata": {
    "ExecuteTime": {
     "start_time": "2023-05-01T14:38:48.287632Z",
     "end_time": "2023-05-01T14:38:50.039931Z"
    }
   },
   "outputs": [
    {
     "data": {
      "text/plain": "Zombie                         6264\nZombie Horde                    206\nZombie - Protestor - Victim      78\nZombie Extra                     70\nZombie Dancer                    43\nZombie Girl                      36\nZombie #1                        36\nZombie #2                        31\nZombie Vampire                   25\nZombie Victim                    22\nName: character, dtype: int64"
     },
     "execution_count": 302,
     "metadata": {},
     "output_type": "execute_result"
    }
   ],
   "source": [
    "zombie_df = cast[cast.character.str.startswith('Zombie')]\n",
    "zombie_df.character.value_counts()[:10]"
   ]
  },
  {
   "cell_type": "code",
   "execution_count": 303,
   "metadata": {
    "ExecuteTime": {
     "start_time": "2023-05-01T14:39:05.742998Z",
     "end_time": "2023-05-01T14:39:08.416664Z"
    }
   },
   "outputs": [
    {
     "data": {
      "text/plain": "Policeman              7029\nPolice Officer         4808\nPolice Inspector        742\nPolice Sergeant         674\nPolice officer          539\nPolice                  456\nPolicewoman             415\nPolice Chief            410\nPolice Captain          387\nPolice Commissioner     337\nName: character, dtype: int64"
     },
     "execution_count": 303,
     "metadata": {},
     "output_type": "execute_result"
    }
   ],
   "source": [
    "police_df = cast[cast.character.str.startswith('Police')]\n",
    "police_df.character.value_counts()[:10]"
   ]
  },
  {
   "cell_type": "markdown",
   "metadata": {},
   "source": [
    "### Section II - Q5: Plot how many roles 'Keanu Reeves' has played in each year of his career."
   ]
  },
  {
   "cell_type": "code",
   "execution_count": 304,
   "metadata": {
    "ExecuteTime": {
     "start_time": "2023-05-01T14:39:28.816181Z",
     "end_time": "2023-05-01T14:39:29.091047Z"
    }
   },
   "outputs": [
    {
     "data": {
      "text/plain": "<Axes: xlabel='year'>"
     },
     "execution_count": 304,
     "metadata": {},
     "output_type": "execute_result"
    },
    {
     "data": {
      "text/plain": "<Figure size 640x480 with 1 Axes>",
      "image/png": "[encoded data removed]"
     },
     "metadata": {},
     "output_type": "display_data"
    }
   ],
   "source": [
    "keanu_df = cast[cast.name == 'Keanu Reeves']\n",
    "keanu_df.groupby('year').size().plot(kind='bar')"
   ]
  },
  {
   "cell_type": "markdown",
   "metadata": {},
   "source": [
    "### Section II - Q6: Plot the cast positions (n-values) of Keanu Reeve's roles through his career over the years.\n"
   ]
  },
  {
   "cell_type": "code",
   "execution_count": 305,
   "metadata": {
    "ExecuteTime": {
     "start_time": "2023-05-01T14:39:41.246702Z",
     "end_time": "2023-05-01T14:39:41.933116Z"
    }
   },
   "outputs": [
    {
     "data": {
      "text/plain": "<Axes: xlabel='year', ylabel='n'>"
     },
     "execution_count": 305,
     "metadata": {},
     "output_type": "execute_result"
    },
    {
     "data": {
      "text/plain": "<Figure size 640x480 with 1 Axes>",
      "image/png": "[encoded data removed]"
     },
     "metadata": {},
     "output_type": "display_data"
    }
   ],
   "source": [
    "keanu_df.plot.scatter(x='year', y='n')"
   ]
  },
  {
   "cell_type": "markdown",
   "metadata": {},
   "source": [
    "### Section II - Q7: Plot the number of \"Hamlet\" films made by each decade"
   ]
  },
  {
   "cell_type": "code",
   "execution_count": 306,
   "metadata": {
    "ExecuteTime": {
     "start_time": "2023-05-01T14:39:51.642572Z",
     "end_time": "2023-05-01T14:39:51.798295Z"
    }
   },
   "outputs": [
    {
     "data": {
      "text/plain": "<Axes: xlabel='year'>"
     },
     "execution_count": 306,
     "metadata": {},
     "output_type": "execute_result"
    },
    {
     "data": {
      "text/plain": "<Figure size 640x480 with 1 Axes>",
      "image/png": "[encoded data removed]"
     },
     "metadata": {},
     "output_type": "display_data"
    }
   ],
   "source": [
    "hamlet_df.groupby((hamlet_df.year//10) * 10).size().plot(kind='bar')"
   ]
  },
  {
   "cell_type": "markdown",
   "metadata": {},
   "source": [
    "### Section II - Q8: \n",
    "\n",
    "(A) How many leading roles were available to both actors and actresses, in the 1960s (1960-1969)?\n",
    "\n",
    "(B) How many leading roles were available to both actors and actresses, in the 2000s (2000-2009)?\n",
    "\n",
    "- Hint: A specific value of n might indicate a leading role"
   ]
  },
  {
   "cell_type": "code",
   "execution_count": 307,
   "metadata": {
    "ExecuteTime": {
     "start_time": "2023-05-01T14:40:08.379998Z",
     "end_time": "2023-05-01T14:40:08.653690Z"
    }
   },
   "outputs": [
    {
     "data": {
      "text/plain": "type\nactor       8320\nactress     3503\ntotal      11823\ndtype: int64"
     },
     "execution_count": 307,
     "metadata": {},
     "output_type": "execute_result"
    }
   ],
   "source": [
    "leading_df = cast[(cast.year >= 1960) & (cast.year <= 1969) & (cast.n == 1)]\n",
    "leading_df = leading_df.groupby('type').size()\n",
    "leading_df.loc['total'] = leading_df.sum()\n",
    "leading_df"
   ]
  },
  {
   "cell_type": "code",
   "execution_count": 308,
   "metadata": {
    "ExecuteTime": {
     "start_time": "2023-05-01T14:40:31.409870Z",
     "end_time": "2023-05-01T14:40:31.769814Z"
    }
   },
   "outputs": [
    {
     "data": {
      "text/plain": "type\nactor      18557\nactress     7787\ntotal      26344\ndtype: int64"
     },
     "execution_count": 308,
     "metadata": {},
     "output_type": "execute_result"
    }
   ],
   "source": [
    "leading_df = cast[(cast.year >= 2000) & (cast.year <= 2009) & (cast.n == 1)]\n",
    "leading_df = leading_df.groupby('type').size()\n",
    "leading_df.loc['total'] = leading_df.sum()\n",
    "leading_df"
   ]
  },
  {
   "cell_type": "markdown",
   "metadata": {},
   "source": [
    "### Section II - Q9: List, in order by year, each of the films in which Frank Oz has played more than 1 role."
   ]
  },
  {
   "cell_type": "code",
   "execution_count": 310,
   "metadata": {
    "ExecuteTime": {
     "start_time": "2023-05-01T14:41:12.854789Z",
     "end_time": "2023-05-01T14:41:12.876666Z"
    }
   },
   "outputs": [
    {
     "data": {
      "text/plain": "    year                                 title  roles\n0   1979                      The Muppet Movie      8\n3   1981        An American Werewolf in London      2\n4   1981                The Great Muppet Caper      6\n5   1982                      The Dark Crystal      2\n9   1984            The Muppets Take Manhattan      7\n10  1985                      Follow That Bird      3\n14  1992            The Muppet Christmas Carol      7\n15  1996                Muppet Treasure Island      4\n17  1999                    Muppets from Space      4\n19  1999  The Adventures of Elmo in Grouchland      3",
      "text/html": "<div>\n<style scoped>\n    .dataframe tbody tr th:only-of-type {\n        vertical-align: middle;\n    }\n\n    .dataframe tbody tr th {\n        vertical-align: top;\n    }\n\n    .dataframe thead th {\n        text-align: right;\n    }\n</style>\n<table border=\"1\" class=\"dataframe\">\n  <thead>\n    <tr style=\"text-align: right;\">\n      <th></th>\n      <th>year</th>\n      <th>title</th>\n      <th>roles</th>\n    </tr>\n  </thead>\n  <tbody>\n    <tr>\n      <th>0</th>\n      <td>1979</td>\n      <td>The Muppet Movie</td>\n      <td>8</td>\n    </tr>\n    <tr>\n      <th>3</th>\n      <td>1981</td>\n      <td>An American Werewolf in London</td>\n      <td>2</td>\n    </tr>\n    <tr>\n      <th>4</th>\n      <td>1981</td>\n      <td>The Great Muppet Caper</td>\n      <td>6</td>\n    </tr>\n    <tr>\n      <th>5</th>\n      <td>1982</td>\n      <td>The Dark Crystal</td>\n      <td>2</td>\n    </tr>\n    <tr>\n      <th>9</th>\n      <td>1984</td>\n      <td>The Muppets Take Manhattan</td>\n      <td>7</td>\n    </tr>\n    <tr>\n      <th>10</th>\n      <td>1985</td>\n      <td>Follow That Bird</td>\n      <td>3</td>\n    </tr>\n    <tr>\n      <th>14</th>\n      <td>1992</td>\n      <td>The Muppet Christmas Carol</td>\n      <td>7</td>\n    </tr>\n    <tr>\n      <th>15</th>\n      <td>1996</td>\n      <td>Muppet Treasure Island</td>\n      <td>4</td>\n    </tr>\n    <tr>\n      <th>17</th>\n      <td>1999</td>\n      <td>Muppets from Space</td>\n      <td>4</td>\n    </tr>\n    <tr>\n      <th>19</th>\n      <td>1999</td>\n      <td>The Adventures of Elmo in Grouchland</td>\n      <td>3</td>\n    </tr>\n  </tbody>\n</table>\n</div>"
     },
     "execution_count": 310,
     "metadata": {},
     "output_type": "execute_result"
    }
   ],
   "source": [
    "frank_oz_df = cast[cast.name == 'Frank Oz'].groupby(['year', 'title']).size().reset_index(name='roles')\n",
    "frank_oz_df[frank_oz_df.roles > 1]"
   ]
  },
  {
   "cell_type": "markdown",
   "metadata": {},
   "source": [
    "### Section II - Q10: List each of the characters that Frank Oz has portrayed at least twice"
   ]
  },
  {
   "cell_type": "code",
   "execution_count": 313,
   "metadata": {
    "ExecuteTime": {
     "start_time": "2023-05-01T14:42:08.899542Z",
     "end_time": "2023-05-01T14:42:09.418649Z"
    }
   },
   "outputs": [
    {
     "data": {
      "text/plain": "         character  counts\n0           Animal       6\n2             Bert       3\n5   Cookie Monster       5\n10     Fozzie Bear       4\n15          Grover       2\n18      Miss Piggy       6\n25   Sam the Eagle       5\n34            Yoda       6",
      "text/html": "<div>\n<style scoped>\n    .dataframe tbody tr th:only-of-type {\n        vertical-align: middle;\n    }\n\n    .dataframe tbody tr th {\n        vertical-align: top;\n    }\n\n    .dataframe thead th {\n        text-align: right;\n    }\n</style>\n<table border=\"1\" class=\"dataframe\">\n  <thead>\n    <tr style=\"text-align: right;\">\n      <th></th>\n      <th>character</th>\n      <th>counts</th>\n    </tr>\n  </thead>\n  <tbody>\n    <tr>\n      <th>0</th>\n      <td>Animal</td>\n      <td>6</td>\n    </tr>\n    <tr>\n      <th>2</th>\n      <td>Bert</td>\n      <td>3</td>\n    </tr>\n    <tr>\n      <th>5</th>\n      <td>Cookie Monster</td>\n      <td>5</td>\n    </tr>\n    <tr>\n      <th>10</th>\n      <td>Fozzie Bear</td>\n      <td>4</td>\n    </tr>\n    <tr>\n      <th>15</th>\n      <td>Grover</td>\n      <td>2</td>\n    </tr>\n    <tr>\n      <th>18</th>\n      <td>Miss Piggy</td>\n      <td>6</td>\n    </tr>\n    <tr>\n      <th>25</th>\n      <td>Sam the Eagle</td>\n      <td>5</td>\n    </tr>\n    <tr>\n      <th>34</th>\n      <td>Yoda</td>\n      <td>6</td>\n    </tr>\n  </tbody>\n</table>\n</div>"
     },
     "execution_count": 313,
     "metadata": {},
     "output_type": "execute_result"
    }
   ],
   "source": [
    "frank_oz_char_df = cast[cast.name == 'Frank Oz'].groupby('character').size().reset_index(name='counts')\n",
    "frank_oz_char_df[frank_oz_char_df.counts > 1]"
   ]
  },
  {
   "cell_type": "markdown",
   "metadata": {},
   "source": [
    "# Section III - Advanced Merging, Querying and Visualizations"
   ]
  },
  {
   "cell_type": "markdown",
   "metadata": {},
   "source": [
    "## Make a bar plot with the following conditions\n",
    "- Frequency of the number of movies with \"Christmas\" in their title \n",
    "- Movies should be such that they are released in the USA.\n",
    "- Show the frequency plot by month"
   ]
  },
  {
   "cell_type": "code",
   "execution_count": 314,
   "metadata": {
    "ExecuteTime": {
     "start_time": "2023-05-01T14:42:34.427533Z",
     "end_time": "2023-05-01T14:42:34.947303Z"
    }
   },
   "outputs": [
    {
     "data": {
      "text/plain": "<Axes: >"
     },
     "execution_count": 314,
     "metadata": {},
     "output_type": "execute_result"
    },
    {
     "data": {
      "text/plain": "<Figure size 640x480 with 1 Axes>",
      "image/png": "[encoded data removed]"
     },
     "metadata": {},
     "output_type": "display_data"
    }
   ],
   "source": [
    "christmas = release_dates[(release_dates.title.str.contains('Christmas')) & (release_dates.country == 'USA')]\n",
    "christmas.date.dt.month.value_counts().sort_index().plot(kind='bar')"
   ]
  },
  {
   "cell_type": "markdown",
   "metadata": {},
   "source": [
    "### Section III - Q1: Make a bar plot with the following conditions\n",
    "- Frequency of the number of movies with \"Summer\" in their title \n",
    "- Movies should be such that they are released in the USA.\n",
    "- Show the frequency plot by month"
   ]
  },
  {
   "cell_type": "code",
   "execution_count": 315,
   "metadata": {
    "ExecuteTime": {
     "start_time": "2023-05-01T14:42:45.488513Z",
     "end_time": "2023-05-01T14:42:45.932638Z"
    }
   },
   "outputs": [
    {
     "data": {
      "text/plain": "<Axes: >"
     },
     "execution_count": 315,
     "metadata": {},
     "output_type": "execute_result"
    },
    {
     "data": {
      "text/plain": "<Figure size 640x480 with 1 Axes>",
      "image/png": "[encoded data removed]"
     },
     "metadata": {},
     "output_type": "display_data"
    }
   ],
   "source": [
    "summer = release_dates[(release_dates.title.str.contains('Summer')) & (release_dates.country == 'USA')]\n",
    "summer.date.dt.month.value_counts().sort_index().plot(kind='bar')"
   ]
  },
  {
   "cell_type": "markdown",
   "metadata": {},
   "source": [
    "### Section III - Q2: Make a bar plot with the following conditions\n",
    "- Frequency of the number of movies with \"Action\" in their title \n",
    "- Movies should be such that they are released in the USA.\n",
    "- Show the frequency plot by week"
   ]
  },
  {
   "cell_type": "code",
   "execution_count": 316,
   "metadata": {
    "ExecuteTime": {
     "start_time": "2023-05-01T14:42:51.674410Z",
     "end_time": "2023-05-01T14:42:52.236363Z"
    }
   },
   "outputs": [
    {
     "data": {
      "text/plain": "<Axes: >"
     },
     "execution_count": 316,
     "metadata": {},
     "output_type": "execute_result"
    },
    {
     "data": {
      "text/plain": "<Figure size 640x480 with 1 Axes>",
      "image/png": "[encoded data removed]"
     },
     "metadata": {},
     "output_type": "display_data"
    }
   ],
   "source": [
    "action = release_dates[(release_dates.title.str.contains('Action')) & (release_dates.country == 'USA')]\n",
    "action.date.dt.isocalendar().week.value_counts().sort_index().plot(kind='bar')"
   ]
  },
  {
   "cell_type": "markdown",
   "metadata": {},
   "source": [
    "### Section III - Q3: Show all the movies in which Keanu Reeves has played the lead role along with their   release date in the USA sorted by the date of release\n",
    "- Hint: You might need to join or merge two datasets!"
   ]
  },
  {
   "cell_type": "code",
   "execution_count": 317,
   "metadata": {
    "ExecuteTime": {
     "start_time": "2023-05-01T14:43:11.626910Z",
     "end_time": "2023-05-01T14:43:11.747492Z"
    }
   },
   "outputs": [
    {
     "data": {
      "text/plain": "                               title       date\n20                  The Night Before 1988-04-15\n3   Bill & Ted's Excellent Adventure 1989-02-17\n2         Bill & Ted's Bogus Journey 1991-07-19\n12                     Little Buddha 1994-05-25\n13                             Speed 1994-06-10\n10                   Johnny Mnemonic 1995-05-26\n1               A Walk in the Clouds 1995-08-11\n4                     Chain Reaction 1996-08-02\n6                  Feeling Minnesota 1996-09-13\n17              The Devil's Advocate 1997-10-17\n19                        The Matrix 1999-03-31\n21                  The Replacements 2000-08-11\n15                    Sweet November 2001-02-16\n7                          Hard Ball 2001-09-14\n5                        Constantine 2005-02-18\n18                    The Lake House 2006-06-16\n14                      Street Kings 2008-04-11\n16     The Day the Earth Stood Still 2008-12-12\n0                           47 Ronin 2013-12-25\n8                          John Wick 2014-10-24\n11                       Knock Knock 2015-10-09\n9               John Wick: Chapter 2 2017-02-10",
      "text/html": "<div>\n<style scoped>\n    .dataframe tbody tr th:only-of-type {\n        vertical-align: middle;\n    }\n\n    .dataframe tbody tr th {\n        vertical-align: top;\n    }\n\n    .dataframe thead th {\n        text-align: right;\n    }\n</style>\n<table border=\"1\" class=\"dataframe\">\n  <thead>\n    <tr style=\"text-align: right;\">\n      <th></th>\n      <th>title</th>\n      <th>date</th>\n    </tr>\n  </thead>\n  <tbody>\n    <tr>\n      <th>20</th>\n      <td>The Night Before</td>\n      <td>1988-04-15</td>\n    </tr>\n    <tr>\n      <th>3</th>\n      <td>Bill &amp; Ted's Excellent Adventure</td>\n      <td>1989-02-17</td>\n    </tr>\n    <tr>\n      <th>2</th>\n      <td>Bill &amp; Ted's Bogus Journey</td>\n      <td>1991-07-19</td>\n    </tr>\n    <tr>\n      <th>12</th>\n      <td>Little Buddha</td>\n      <td>1994-05-25</td>\n    </tr>\n    <tr>\n      <th>13</th>\n      <td>Speed</td>\n      <td>1994-06-10</td>\n    </tr>\n    <tr>\n      <th>10</th>\n      <td>Johnny Mnemonic</td>\n      <td>1995-05-26</td>\n    </tr>\n    <tr>\n      <th>1</th>\n      <td>A Walk in the Clouds</td>\n      <td>1995-08-11</td>\n    </tr>\n    <tr>\n      <th>4</th>\n      <td>Chain Reaction</td>\n      <td>1996-08-02</td>\n    </tr>\n    <tr>\n      <th>6</th>\n      <td>Feeling Minnesota</td>\n      <td>1996-09-13</td>\n    </tr>\n    <tr>\n      <th>17</th>\n      <td>The Devil's Advocate</td>\n      <td>1997-10-17</td>\n    </tr>\n    <tr>\n      <th>19</th>\n      <td>The Matrix</td>\n      <td>1999-03-31</td>\n    </tr>\n    <tr>\n      <th>21</th>\n      <td>The Replacements</td>\n      <td>2000-08-11</td>\n    </tr>\n    <tr>\n      <th>15</th>\n      <td>Sweet November</td>\n      <td>2001-02-16</td>\n    </tr>\n    <tr>\n      <th>7</th>\n      <td>Hard Ball</td>\n      <td>2001-09-14</td>\n    </tr>\n    <tr>\n      <th>5</th>\n      <td>Constantine</td>\n      <td>2005-02-18</td>\n    </tr>\n    <tr>\n      <th>18</th>\n      <td>The Lake House</td>\n      <td>2006-06-16</td>\n    </tr>\n    <tr>\n      <th>14</th>\n      <td>Street Kings</td>\n      <td>2008-04-11</td>\n    </tr>\n    <tr>\n      <th>16</th>\n      <td>The Day the Earth Stood Still</td>\n      <td>2008-12-12</td>\n    </tr>\n    <tr>\n      <th>0</th>\n      <td>47 Ronin</td>\n      <td>2013-12-25</td>\n    </tr>\n    <tr>\n      <th>8</th>\n      <td>John Wick</td>\n      <td>2014-10-24</td>\n    </tr>\n    <tr>\n      <th>11</th>\n      <td>Knock Knock</td>\n      <td>2015-10-09</td>\n    </tr>\n    <tr>\n      <th>9</th>\n      <td>John Wick: Chapter 2</td>\n      <td>2017-02-10</td>\n    </tr>\n  </tbody>\n</table>\n</div>"
     },
     "execution_count": 317,
     "metadata": {},
     "output_type": "execute_result"
    }
   ],
   "source": [
    "keanu_df = cast[cast.name == 'Keanu Reeves']\n",
    "merged = pd.merge(keanu_df[keanu_df.n == 1], release_dates[release_dates.country == 'USA'], on=['year', 'title'])\n",
    "merged.sort_values(by='date')[['title', 'date']]"
   ]
  },
  {
   "cell_type": "markdown",
   "metadata": {},
   "source": [
    "### Section III - Q4: Make a bar plot showing the months in which movies with Keanu Reeves tend to be released in the USA?"
   ]
  },
  {
   "cell_type": "code",
   "execution_count": 318,
   "metadata": {
    "ExecuteTime": {
     "start_time": "2023-05-01T14:43:42.158112Z",
     "end_time": "2023-05-01T14:43:43.464597Z"
    }
   },
   "outputs": [
    {
     "data": {
      "text/plain": "<Axes: >"
     },
     "execution_count": 318,
     "metadata": {},
     "output_type": "execute_result"
    },
    {
     "data": {
      "text/plain": "<Figure size 640x480 with 1 Axes>",
      "image/png": "[encoded data removed]"
     },
     "metadata": {},
     "output_type": "display_data"
    }
   ],
   "source": [
    "merged2 = pd.merge(keanu_df, release_dates[release_dates.country == 'USA'], on=['year', 'title'])\n",
    "merged2.date.dt.month.value_counts().sort_index().plot(kind='bar')"
   ]
  },
  {
   "cell_type": "markdown",
   "metadata": {},
   "source": [
    "### Section III - Q5: Make a bar plot showing the years in which movies with Ian McKellen tend to be released in the USA?"
   ]
  },
  {
   "cell_type": "code",
   "execution_count": 319,
   "metadata": {
    "ExecuteTime": {
     "start_time": "2023-05-01T14:43:49.547382Z",
     "end_time": "2023-05-01T14:43:50.238987Z"
    }
   },
   "outputs": [
    {
     "data": {
      "text/plain": "<Axes: >"
     },
     "execution_count": 319,
     "metadata": {},
     "output_type": "execute_result"
    },
    {
     "data": {
      "text/plain": "<Figure size 640x480 with 1 Axes>",
      "image/png": "[encoded data removed]"
     },
     "metadata": {},
     "output_type": "display_data"
    }
   ],
   "source": [
    "ian_df = cast[cast.name == 'Ian McKellen']\n",
    "merged3 = pd.merge(ian_df, release_dates[release_dates.country == 'USA'], on=['year', 'title'])\n",
    "merged3.date.dt.year.value_counts().sort_index().plot(kind='bar')"
   ]
  },
  {
   "cell_type": "code",
   "execution_count": null,
   "outputs": [],
   "source": [],
   "metadata": {
    "collapsed": false
   }
  }
 ],
 "metadata": {
  "kernelspec": {
   "display_name": "Python 3",
   "language": "python",
   "name": "python3"
  },
  "language_info": {
   "codemirror_mode": {
    "name": "ipython",
    "version": 3
   },
   "file_extension": ".py",
   "mimetype": "text/x-python",
   "name": "python",
   "nbconvert_exporter": "python",
   "pygments_lexer": "ipython3",
   "version": "3.7.6-final"
  }
 },
 "nbformat": 4,
 "nbformat_minor": 2
}
