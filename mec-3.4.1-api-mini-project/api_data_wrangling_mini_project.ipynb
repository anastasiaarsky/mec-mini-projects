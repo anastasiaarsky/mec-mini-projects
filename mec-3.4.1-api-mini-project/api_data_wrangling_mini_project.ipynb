{
 "cells": [
  {
   "cell_type": "markdown",
   "source": [
    "This exercise will require you to pull some data from https://data.nasdaq.com/ (formerly Quandl API)."
   ],
   "metadata": {}
  },
  {
   "cell_type": "markdown",
   "source": [
    "As a first step, you will need to register a free account on the https://data.nasdaq.com/ website."
   ],
   "metadata": {}
  },
  {
   "cell_type": "markdown",
   "source": [
    "After you register, you will be provided with a unique API key, that you should store:\n",
    "\n",
    "*Note*: Use a `.env` file and put your key in there and `python-dotenv` to access it in this notebook. \n",
    "\n",
    "The code below uses a key that was used when generating this project but has since been deleted. Never submit your keys to source control. There is a `.env-example` file in this repository to illusrtate what you need. Copy that to a file called `.env` and use your own api key in that `.env` file. Make sure you also have a `.gitignore` file with a line for `.env` added to it. \n",
    "\n",
    "The standard Python gitignore is [here](https://github.com/github/gitignore/blob/master/Python.gitignore) you can just copy that. "
   ],
   "metadata": {}
  },
  {
   "cell_type": "code",
   "execution_count": 93,
   "source": [
    "# get api key from your .env file\n",
    "import os\n",
    "from dotenv import load_dotenv  # if missing this module, simply run `pip install python-dotenv`\n",
    "\n",
    "load_dotenv()\n",
    "API_KEY = os.getenv('NASDAQ_API_KEY')\n",
    "\n",
    "#print(API_KEY)"
   ],
   "outputs": [],
   "metadata": {
    "ExecuteTime": {
     "start_time": "2023-04-21T13:58:29.913079Z",
     "end_time": "2023-04-21T13:58:30.067764Z"
    }
   }
  },
  {
   "cell_type": "markdown",
   "source": [
    "Nasdaq Data has a large number of data sources, but, unfortunately, most of them require a Premium subscription. Still, there are also a good number of free datasets."
   ],
   "metadata": {}
  },
  {
   "cell_type": "markdown",
   "source": [
    "For this mini project, we will focus on equities data from the Frankfurt Stock Exhange (FSE), which is available for free. We'll try and analyze the stock prices of a company called Carl Zeiss Meditec, which manufactures tools for eye examinations, as well as medical lasers for laser eye surgery: https://www.zeiss.com/meditec/int/home.html. The company is listed under the stock ticker AFX_X."
   ],
   "metadata": {}
  },
  {
   "cell_type": "markdown",
   "source": [
    "You can find the detailed Nasdaq Data API instructions here: https://docs.data.nasdaq.com/docs/in-depth-usage"
   ],
   "metadata": {}
  },
  {
   "cell_type": "markdown",
   "source": [
    "While there is a dedicated Python package for connecting to the Nasdaq API, we would prefer that you use the *requests* package, which can be easily downloaded using *pip* or *conda*. You can find the documentation for the package here: http://docs.python-requests.org/en/master/"
   ],
   "metadata": {}
  },
  {
   "cell_type": "markdown",
   "source": [
    "Finally, apart from the *requests* package, you are encouraged to not use any third party Python packages, such as *pandas*, and instead focus on what's available in the Python Standard Library (the *collections* module might come in handy: https://pymotw.com/3/collections/).\n",
    "Also, since you won't have access to DataFrames, you are encouraged to us Python's native data structures - preferably dictionaries, though some questions can also be answered using lists.\n",
    "You can read more on these data structures here: https://docs.python.org/3/tutorial/datastructures.html"
   ],
   "metadata": {}
  },
  {
   "cell_type": "markdown",
   "source": [
    "Keep in mind that the JSON responses you will be getting from the API map almost one-to-one to Python's dictionaries. Unfortunately, they can be very nested, so make sure you read up on indexing dictionaries in the documentation provided above."
   ],
   "metadata": {}
  },
  {
   "cell_type": "code",
   "execution_count": 94,
   "source": [
    "import requests"
   ],
   "outputs": [],
   "metadata": {
    "ExecuteTime": {
     "start_time": "2023-04-21T13:58:29.920009Z",
     "end_time": "2023-04-21T13:58:30.069614Z"
    }
   }
  },
  {
   "cell_type": "markdown",
   "source": [
    "Note: API's can change a bit with each version, for this exercise it is reccomended to use the nasdaq api at `https://data.nasdaq.com/api/v3/`. This is the same api as what used to be quandl so `https://www.quandl.com/api/v3/` should work too.\n",
    "\n",
    "Hint: We are looking for the `AFX_X` data on the `datasets/FSE/` dataset."
   ],
   "metadata": {}
  },
  {
   "cell_type": "code",
   "execution_count": 95,
   "source": [
    "# Now, call the Nasdaq API and pull out a small sample of the data (only one day) to get a glimpse\n",
    "# into the JSON structure that will be returned\n",
    "req = requests.get('https://data.nasdaq.com/api/v3/datasets/FSE/AFX_X/data.json?start_date=2020-12-01&api_key={}'.format(API_KEY))"
   ],
   "outputs": [],
   "metadata": {
    "ExecuteTime": {
     "start_time": "2023-04-21T13:58:29.941444Z",
     "end_time": "2023-04-21T13:58:30.543759Z"
    }
   }
  },
  {
   "cell_type": "code",
   "execution_count": 96,
   "source": [
    "# Inspect the JSON structure of the object you created, and take note of how nested it is,\n",
    "# as well as the overall structure\n",
    "print(req.json())"
   ],
   "outputs": [
    {
     "name": "stdout",
     "output_type": "stream",
     "text": [
      "{'dataset_data': {'limit': None, 'transform': None, 'column_index': None, 'column_names': ['Date', 'Open', 'High', 'Low', 'Close', 'Change', 'Traded Volume', 'Turnover', 'Last Price of the Day', 'Daily Traded Units', 'Daily Turnover'], 'start_date': '2020-12-01', 'end_date': '2020-12-01', 'frequency': 'daily', 'data': [['2020-12-01', 112.2, 112.2, 111.5, 112.0, None, 51.0, 5703.0, None, None, None]], 'collapse': None, 'order': None}}\n"
     ]
    }
   ],
   "metadata": {
    "ExecuteTime": {
     "start_time": "2023-04-21T13:58:30.547139Z",
     "end_time": "2023-04-21T13:58:30.554782Z"
    }
   }
  },
  {
   "cell_type": "markdown",
   "source": [
    "These are your tasks for this mini project:\n",
    "\n",
    "1. Collect data from the Franfurt Stock Exchange, for the ticker AFX_X, for the whole year 2017 (keep in mind that the date format is YYYY-MM-DD).\n",
    "2. Convert the returned JSON object into a Python dictionary.\n",
    "3. Calculate what the highest and lowest opening prices were for the stock in this period.\n",
    "4. What was the largest change in any one day (based on High and Low price)?\n",
    "5. What was the largest change between any two days (based on Closing Price)?\n",
    "6. What was the average daily trading volume during this year?\n",
    "7. (Optional) What was the median trading volume during this year. (Note: you may need to implement your own function for calculating the median.)"
   ],
   "metadata": {}
  },
  {
   "cell_type": "code",
   "execution_count": 97,
   "source": [
    "# 1. Collect the data\n",
    "req = requests.get('https://data.nasdaq.com/api/v3/datasets/FSE/AFX_X/data.json?start_date=2017-01-02&end_date=2017-12-29&api_key={}'.format(API_KEY))\n",
    "response = req.json()\n",
    "#response"
   ],
   "outputs": [],
   "metadata": {
    "ExecuteTime": {
     "start_time": "2023-04-21T13:58:30.557581Z",
     "end_time": "2023-04-21T13:58:31.077300Z"
    }
   }
  },
  {
   "cell_type": "code",
   "execution_count": 98,
   "source": [
    "# 2. Convert to Python dictionary\n",
    "# --> key = Date, values = [Open, High, Low, Close, Change, Traded Volume, Turnover,\n",
    "# Last Price of the Day, Daily Traded Units, Daily Turnover]\n",
    "data = req.json()['dataset_data']['data']\n",
    "data_dict = {day[0]:day[1:] for day in data}\n",
    "#data_dict"
   ],
   "outputs": [],
   "metadata": {
    "ExecuteTime": {
     "start_time": "2023-04-21T13:58:31.083470Z",
     "end_time": "2023-04-21T13:58:31.085729Z"
    }
   }
  },
  {
   "cell_type": "code",
   "execution_count": 99,
   "outputs": [
    {
     "name": "stdout",
     "output_type": "stream",
     "text": [
      "Highest opening price: 51.76\n",
      "Lowest opening price: 34.99\n"
     ]
    }
   ],
   "source": [
    "# 3. Calculate what the highest and lowest opening prices were for the stock in this period\n",
    "sorted_open = sorted(data_dict.items(), key = lambda i: i[0][1], reverse = True)\n",
    "highest = sorted_open[0][1][0]\n",
    "lowest = sorted_open[len(sorted_open)-1][1][0]\n",
    "print(\"Highest opening price: {}\\nLowest opening price: {}\".format(highest, lowest))"
   ],
   "metadata": {
    "collapsed": false,
    "ExecuteTime": {
     "start_time": "2023-04-21T13:58:31.092017Z",
     "end_time": "2023-04-21T13:58:31.096782Z"
    }
   }
  },
  {
   "cell_type": "code",
   "execution_count": 100,
   "outputs": [
    {
     "name": "stdout",
     "output_type": "stream",
     "text": [
      "Largest change in a day: 2.81\n"
     ]
    }
   ],
   "source": [
    "# 4. What was the largest change in any one day (based on High and Low price)?\n",
    "changes = [float(day[1][1] - day[1][2]) for day in data_dict.items()]\n",
    "print(\"Largest change in a day: {:.2f}\".format(max(changes)))"
   ],
   "metadata": {
    "collapsed": false,
    "ExecuteTime": {
     "start_time": "2023-04-21T13:58:31.097024Z",
     "end_time": "2023-04-21T13:58:31.125316Z"
    }
   }
  },
  {
   "cell_type": "code",
   "execution_count": 101,
   "outputs": [
    {
     "name": "stdout",
     "output_type": "stream",
     "text": [
      "Largest change between any two days: 2.56\n"
     ]
    }
   ],
   "source": [
    "# 5. What was the largest change between any two days (based on Closing Price)?\n",
    "def changes(gdict):\n",
    "    values = list(gdict.values())\n",
    "    largest_change = 0\n",
    "    for count, day in enumerate(values[:-1]):\n",
    "        largest_change = max(largest_change, abs(day[3] - values[count+1][3]))\n",
    "    return largest_change\n",
    "\n",
    "change2 = changes(data_dict)\n",
    "print(\"Largest change between any two days: {:.2f}\".format(change2))"
   ],
   "metadata": {
    "collapsed": false,
    "ExecuteTime": {
     "start_time": "2023-04-21T13:58:31.102811Z",
     "end_time": "2023-04-21T13:58:31.125684Z"
    }
   }
  },
  {
   "cell_type": "code",
   "execution_count": 102,
   "outputs": [
    {
     "name": "stdout",
     "output_type": "stream",
     "text": [
      "Average daily trading volume: 3853589.45\n"
     ]
    }
   ],
   "source": [
    "# 6. What was the average daily trading volume during this year?\n",
    "traded_volume = [day[6] for day in data_dict.values()]\n",
    "avg_traded_volume = sum(traded_volume)/len(traded_volume)\n",
    "print(\"Average daily trading volume: {:.2f}\".format(avg_traded_volume))"
   ],
   "metadata": {
    "collapsed": false,
    "ExecuteTime": {
     "start_time": "2023-04-21T13:58:31.109469Z",
     "end_time": "2023-04-21T13:58:31.125900Z"
    }
   }
  },
  {
   "cell_type": "code",
   "execution_count": 103,
   "outputs": [
    {
     "name": "stdout",
     "output_type": "stream",
     "text": [
      "Median daily trading volume: 3292223.00\n"
     ]
    }
   ],
   "source": [
    "# 7. What was the median trading volume during this year. (Note: you may need to implement your own function for calculating the median.)\n",
    "import statistics\n",
    "\n",
    "median_traded_volume = statistics.median(traded_volume)\n",
    "print(\"Median daily trading volume: {:.2f}\".format(median_traded_volume))"
   ],
   "metadata": {
    "collapsed": false,
    "ExecuteTime": {
     "start_time": "2023-04-21T13:58:31.113424Z",
     "end_time": "2023-04-21T13:58:31.126018Z"
    }
   }
  }
 ],
 "metadata": {
  "kernelspec": {
   "name": "python3",
   "language": "python",
   "display_name": "Python 3 (ipykernel)"
  },
  "language_info": {
   "codemirror_mode": {
    "name": "ipython",
    "version": 3
   },
   "file_extension": ".py",
   "mimetype": "text/x-python",
   "name": "python",
   "nbconvert_exporter": "python",
   "pygments_lexer": "ipython3",
   "version": "3.7.9"
  },
  "interpreter": {
   "hash": "4885f37acae9217c235118400878352aafa7b76e66df698a1f601374f86939a7"
  }
 },
 "nbformat": 4,
 "nbformat_minor": 4
}
